{
  "nbformat": 4,
  "nbformat_minor": 0,
  "metadata": {
    "colab": {
      "provenance": [],
      "gpuType": "T4"
    },
    "kernelspec": {
      "name": "python3",
      "display_name": "Python 3"
    },
    "language_info": {
      "name": "python"
    },
    "accelerator": "GPU",
    "widgets": {
      "application/vnd.jupyter.widget-state+json": {
        "a8f28baea529432192d09dabdace1a77": {
          "model_module": "@jupyter-widgets/controls",
          "model_name": "HBoxModel",
          "model_module_version": "1.5.0",
          "state": {
            "_dom_classes": [],
            "_model_module": "@jupyter-widgets/controls",
            "_model_module_version": "1.5.0",
            "_model_name": "HBoxModel",
            "_view_count": null,
            "_view_module": "@jupyter-widgets/controls",
            "_view_module_version": "1.5.0",
            "_view_name": "HBoxView",
            "box_style": "",
            "children": [
              "IPY_MODEL_5689cb7efe10404885ebe37e059c156f",
              "IPY_MODEL_153e9b055d5341ab845f0319f192d399",
              "IPY_MODEL_f8b9e43f71db46729ad79f67489850ac"
            ],
            "layout": "IPY_MODEL_02e4a28f5036470fb047651b3db07167"
          }
        },
        "5689cb7efe10404885ebe37e059c156f": {
          "model_module": "@jupyter-widgets/controls",
          "model_name": "HTMLModel",
          "model_module_version": "1.5.0",
          "state": {
            "_dom_classes": [],
            "_model_module": "@jupyter-widgets/controls",
            "_model_module_version": "1.5.0",
            "_model_name": "HTMLModel",
            "_view_count": null,
            "_view_module": "@jupyter-widgets/controls",
            "_view_module_version": "1.5.0",
            "_view_name": "HTMLView",
            "description": "",
            "description_tooltip": null,
            "layout": "IPY_MODEL_df9492f08b5c4ac0850a69da3b495792",
            "placeholder": "​",
            "style": "IPY_MODEL_12ec5cd4b0d04d2788470be7658d71b9",
            "value": "100%"
          }
        },
        "153e9b055d5341ab845f0319f192d399": {
          "model_module": "@jupyter-widgets/controls",
          "model_name": "FloatProgressModel",
          "model_module_version": "1.5.0",
          "state": {
            "_dom_classes": [],
            "_model_module": "@jupyter-widgets/controls",
            "_model_module_version": "1.5.0",
            "_model_name": "FloatProgressModel",
            "_view_count": null,
            "_view_module": "@jupyter-widgets/controls",
            "_view_module_version": "1.5.0",
            "_view_name": "ProgressView",
            "bar_style": "success",
            "description": "",
            "description_tooltip": null,
            "layout": "IPY_MODEL_1f8ad7b0510f47fa90928647d6eb6acc",
            "max": 28821,
            "min": 0,
            "orientation": "horizontal",
            "style": "IPY_MODEL_7b0ac66d0cea40178173ab6698d07264",
            "value": 28821
          }
        },
        "f8b9e43f71db46729ad79f67489850ac": {
          "model_module": "@jupyter-widgets/controls",
          "model_name": "HTMLModel",
          "model_module_version": "1.5.0",
          "state": {
            "_dom_classes": [],
            "_model_module": "@jupyter-widgets/controls",
            "_model_module_version": "1.5.0",
            "_model_name": "HTMLModel",
            "_view_count": null,
            "_view_module": "@jupyter-widgets/controls",
            "_view_module_version": "1.5.0",
            "_view_name": "HTMLView",
            "description": "",
            "description_tooltip": null,
            "layout": "IPY_MODEL_ca0db750095649b8910d57ac5aeb01ad",
            "placeholder": "​",
            "style": "IPY_MODEL_a44ae15e5a284f21b43b2d7ad6ca7242",
            "value": " 28821/28821 [1:12:42&lt;00:00,  6.96it/s]"
          }
        },
        "02e4a28f5036470fb047651b3db07167": {
          "model_module": "@jupyter-widgets/base",
          "model_name": "LayoutModel",
          "model_module_version": "1.2.0",
          "state": {
            "_model_module": "@jupyter-widgets/base",
            "_model_module_version": "1.2.0",
            "_model_name": "LayoutModel",
            "_view_count": null,
            "_view_module": "@jupyter-widgets/base",
            "_view_module_version": "1.2.0",
            "_view_name": "LayoutView",
            "align_content": null,
            "align_items": null,
            "align_self": null,
            "border": null,
            "bottom": null,
            "display": null,
            "flex": null,
            "flex_flow": null,
            "grid_area": null,
            "grid_auto_columns": null,
            "grid_auto_flow": null,
            "grid_auto_rows": null,
            "grid_column": null,
            "grid_gap": null,
            "grid_row": null,
            "grid_template_areas": null,
            "grid_template_columns": null,
            "grid_template_rows": null,
            "height": null,
            "justify_content": null,
            "justify_items": null,
            "left": null,
            "margin": null,
            "max_height": null,
            "max_width": null,
            "min_height": null,
            "min_width": null,
            "object_fit": null,
            "object_position": null,
            "order": null,
            "overflow": null,
            "overflow_x": null,
            "overflow_y": null,
            "padding": null,
            "right": null,
            "top": null,
            "visibility": null,
            "width": null
          }
        },
        "df9492f08b5c4ac0850a69da3b495792": {
          "model_module": "@jupyter-widgets/base",
          "model_name": "LayoutModel",
          "model_module_version": "1.2.0",
          "state": {
            "_model_module": "@jupyter-widgets/base",
            "_model_module_version": "1.2.0",
            "_model_name": "LayoutModel",
            "_view_count": null,
            "_view_module": "@jupyter-widgets/base",
            "_view_module_version": "1.2.0",
            "_view_name": "LayoutView",
            "align_content": null,
            "align_items": null,
            "align_self": null,
            "border": null,
            "bottom": null,
            "display": null,
            "flex": null,
            "flex_flow": null,
            "grid_area": null,
            "grid_auto_columns": null,
            "grid_auto_flow": null,
            "grid_auto_rows": null,
            "grid_column": null,
            "grid_gap": null,
            "grid_row": null,
            "grid_template_areas": null,
            "grid_template_columns": null,
            "grid_template_rows": null,
            "height": null,
            "justify_content": null,
            "justify_items": null,
            "left": null,
            "margin": null,
            "max_height": null,
            "max_width": null,
            "min_height": null,
            "min_width": null,
            "object_fit": null,
            "object_position": null,
            "order": null,
            "overflow": null,
            "overflow_x": null,
            "overflow_y": null,
            "padding": null,
            "right": null,
            "top": null,
            "visibility": null,
            "width": null
          }
        },
        "12ec5cd4b0d04d2788470be7658d71b9": {
          "model_module": "@jupyter-widgets/controls",
          "model_name": "DescriptionStyleModel",
          "model_module_version": "1.5.0",
          "state": {
            "_model_module": "@jupyter-widgets/controls",
            "_model_module_version": "1.5.0",
            "_model_name": "DescriptionStyleModel",
            "_view_count": null,
            "_view_module": "@jupyter-widgets/base",
            "_view_module_version": "1.2.0",
            "_view_name": "StyleView",
            "description_width": ""
          }
        },
        "1f8ad7b0510f47fa90928647d6eb6acc": {
          "model_module": "@jupyter-widgets/base",
          "model_name": "LayoutModel",
          "model_module_version": "1.2.0",
          "state": {
            "_model_module": "@jupyter-widgets/base",
            "_model_module_version": "1.2.0",
            "_model_name": "LayoutModel",
            "_view_count": null,
            "_view_module": "@jupyter-widgets/base",
            "_view_module_version": "1.2.0",
            "_view_name": "LayoutView",
            "align_content": null,
            "align_items": null,
            "align_self": null,
            "border": null,
            "bottom": null,
            "display": null,
            "flex": null,
            "flex_flow": null,
            "grid_area": null,
            "grid_auto_columns": null,
            "grid_auto_flow": null,
            "grid_auto_rows": null,
            "grid_column": null,
            "grid_gap": null,
            "grid_row": null,
            "grid_template_areas": null,
            "grid_template_columns": null,
            "grid_template_rows": null,
            "height": null,
            "justify_content": null,
            "justify_items": null,
            "left": null,
            "margin": null,
            "max_height": null,
            "max_width": null,
            "min_height": null,
            "min_width": null,
            "object_fit": null,
            "object_position": null,
            "order": null,
            "overflow": null,
            "overflow_x": null,
            "overflow_y": null,
            "padding": null,
            "right": null,
            "top": null,
            "visibility": null,
            "width": null
          }
        },
        "7b0ac66d0cea40178173ab6698d07264": {
          "model_module": "@jupyter-widgets/controls",
          "model_name": "ProgressStyleModel",
          "model_module_version": "1.5.0",
          "state": {
            "_model_module": "@jupyter-widgets/controls",
            "_model_module_version": "1.5.0",
            "_model_name": "ProgressStyleModel",
            "_view_count": null,
            "_view_module": "@jupyter-widgets/base",
            "_view_module_version": "1.2.0",
            "_view_name": "StyleView",
            "bar_color": null,
            "description_width": ""
          }
        },
        "ca0db750095649b8910d57ac5aeb01ad": {
          "model_module": "@jupyter-widgets/base",
          "model_name": "LayoutModel",
          "model_module_version": "1.2.0",
          "state": {
            "_model_module": "@jupyter-widgets/base",
            "_model_module_version": "1.2.0",
            "_model_name": "LayoutModel",
            "_view_count": null,
            "_view_module": "@jupyter-widgets/base",
            "_view_module_version": "1.2.0",
            "_view_name": "LayoutView",
            "align_content": null,
            "align_items": null,
            "align_self": null,
            "border": null,
            "bottom": null,
            "display": null,
            "flex": null,
            "flex_flow": null,
            "grid_area": null,
            "grid_auto_columns": null,
            "grid_auto_flow": null,
            "grid_auto_rows": null,
            "grid_column": null,
            "grid_gap": null,
            "grid_row": null,
            "grid_template_areas": null,
            "grid_template_columns": null,
            "grid_template_rows": null,
            "height": null,
            "justify_content": null,
            "justify_items": null,
            "left": null,
            "margin": null,
            "max_height": null,
            "max_width": null,
            "min_height": null,
            "min_width": null,
            "object_fit": null,
            "object_position": null,
            "order": null,
            "overflow": null,
            "overflow_x": null,
            "overflow_y": null,
            "padding": null,
            "right": null,
            "top": null,
            "visibility": null,
            "width": null
          }
        },
        "a44ae15e5a284f21b43b2d7ad6ca7242": {
          "model_module": "@jupyter-widgets/controls",
          "model_name": "DescriptionStyleModel",
          "model_module_version": "1.5.0",
          "state": {
            "_model_module": "@jupyter-widgets/controls",
            "_model_module_version": "1.5.0",
            "_model_name": "DescriptionStyleModel",
            "_view_count": null,
            "_view_module": "@jupyter-widgets/base",
            "_view_module_version": "1.2.0",
            "_view_name": "StyleView",
            "description_width": ""
          }
        },
        "3bdec4edc8484bdebba34ad863e0cdbd": {
          "model_module": "@jupyter-widgets/controls",
          "model_name": "HBoxModel",
          "model_module_version": "1.5.0",
          "state": {
            "_dom_classes": [],
            "_model_module": "@jupyter-widgets/controls",
            "_model_module_version": "1.5.0",
            "_model_name": "HBoxModel",
            "_view_count": null,
            "_view_module": "@jupyter-widgets/controls",
            "_view_module_version": "1.5.0",
            "_view_name": "HBoxView",
            "box_style": "",
            "children": [
              "IPY_MODEL_4cfd71f98837408997adcab86d797fd5",
              "IPY_MODEL_c97d78cb0cad4065958f8e90390e974a",
              "IPY_MODEL_8b919fcc517d477f8ba33fb535346a88"
            ],
            "layout": "IPY_MODEL_8ccf214475634d148c7a97fdba9bfa66"
          }
        },
        "4cfd71f98837408997adcab86d797fd5": {
          "model_module": "@jupyter-widgets/controls",
          "model_name": "HTMLModel",
          "model_module_version": "1.5.0",
          "state": {
            "_dom_classes": [],
            "_model_module": "@jupyter-widgets/controls",
            "_model_module_version": "1.5.0",
            "_model_name": "HTMLModel",
            "_view_count": null,
            "_view_module": "@jupyter-widgets/controls",
            "_view_module_version": "1.5.0",
            "_view_name": "HTMLView",
            "description": "",
            "description_tooltip": null,
            "layout": "IPY_MODEL_af24c78fd7ac497c800a3dc9971a65bb",
            "placeholder": "​",
            "style": "IPY_MODEL_eb9c1b2bdd3847b98490080177902903",
            "value": "100%"
          }
        },
        "c97d78cb0cad4065958f8e90390e974a": {
          "model_module": "@jupyter-widgets/controls",
          "model_name": "FloatProgressModel",
          "model_module_version": "1.5.0",
          "state": {
            "_dom_classes": [],
            "_model_module": "@jupyter-widgets/controls",
            "_model_module_version": "1.5.0",
            "_model_name": "FloatProgressModel",
            "_view_count": null,
            "_view_module": "@jupyter-widgets/controls",
            "_view_module_version": "1.5.0",
            "_view_name": "ProgressView",
            "bar_style": "success",
            "description": "",
            "description_tooltip": null,
            "layout": "IPY_MODEL_bfb5c3f8637144dea25505cbcd5d4960",
            "max": 7076,
            "min": 0,
            "orientation": "horizontal",
            "style": "IPY_MODEL_cb3a77b269fb4d43b18495d1cd361543",
            "value": 7076
          }
        },
        "8b919fcc517d477f8ba33fb535346a88": {
          "model_module": "@jupyter-widgets/controls",
          "model_name": "HTMLModel",
          "model_module_version": "1.5.0",
          "state": {
            "_dom_classes": [],
            "_model_module": "@jupyter-widgets/controls",
            "_model_module_version": "1.5.0",
            "_model_name": "HTMLModel",
            "_view_count": null,
            "_view_module": "@jupyter-widgets/controls",
            "_view_module_version": "1.5.0",
            "_view_name": "HTMLView",
            "description": "",
            "description_tooltip": null,
            "layout": "IPY_MODEL_b97ab657f66c4f2d801286ea36ae94bf",
            "placeholder": "​",
            "style": "IPY_MODEL_a114430dd7fb4c6d9c55232833293f7c",
            "value": " 7076/7076 [20:13&lt;00:00,  6.55it/s]"
          }
        },
        "8ccf214475634d148c7a97fdba9bfa66": {
          "model_module": "@jupyter-widgets/base",
          "model_name": "LayoutModel",
          "model_module_version": "1.2.0",
          "state": {
            "_model_module": "@jupyter-widgets/base",
            "_model_module_version": "1.2.0",
            "_model_name": "LayoutModel",
            "_view_count": null,
            "_view_module": "@jupyter-widgets/base",
            "_view_module_version": "1.2.0",
            "_view_name": "LayoutView",
            "align_content": null,
            "align_items": null,
            "align_self": null,
            "border": null,
            "bottom": null,
            "display": null,
            "flex": null,
            "flex_flow": null,
            "grid_area": null,
            "grid_auto_columns": null,
            "grid_auto_flow": null,
            "grid_auto_rows": null,
            "grid_column": null,
            "grid_gap": null,
            "grid_row": null,
            "grid_template_areas": null,
            "grid_template_columns": null,
            "grid_template_rows": null,
            "height": null,
            "justify_content": null,
            "justify_items": null,
            "left": null,
            "margin": null,
            "max_height": null,
            "max_width": null,
            "min_height": null,
            "min_width": null,
            "object_fit": null,
            "object_position": null,
            "order": null,
            "overflow": null,
            "overflow_x": null,
            "overflow_y": null,
            "padding": null,
            "right": null,
            "top": null,
            "visibility": null,
            "width": null
          }
        },
        "af24c78fd7ac497c800a3dc9971a65bb": {
          "model_module": "@jupyter-widgets/base",
          "model_name": "LayoutModel",
          "model_module_version": "1.2.0",
          "state": {
            "_model_module": "@jupyter-widgets/base",
            "_model_module_version": "1.2.0",
            "_model_name": "LayoutModel",
            "_view_count": null,
            "_view_module": "@jupyter-widgets/base",
            "_view_module_version": "1.2.0",
            "_view_name": "LayoutView",
            "align_content": null,
            "align_items": null,
            "align_self": null,
            "border": null,
            "bottom": null,
            "display": null,
            "flex": null,
            "flex_flow": null,
            "grid_area": null,
            "grid_auto_columns": null,
            "grid_auto_flow": null,
            "grid_auto_rows": null,
            "grid_column": null,
            "grid_gap": null,
            "grid_row": null,
            "grid_template_areas": null,
            "grid_template_columns": null,
            "grid_template_rows": null,
            "height": null,
            "justify_content": null,
            "justify_items": null,
            "left": null,
            "margin": null,
            "max_height": null,
            "max_width": null,
            "min_height": null,
            "min_width": null,
            "object_fit": null,
            "object_position": null,
            "order": null,
            "overflow": null,
            "overflow_x": null,
            "overflow_y": null,
            "padding": null,
            "right": null,
            "top": null,
            "visibility": null,
            "width": null
          }
        },
        "eb9c1b2bdd3847b98490080177902903": {
          "model_module": "@jupyter-widgets/controls",
          "model_name": "DescriptionStyleModel",
          "model_module_version": "1.5.0",
          "state": {
            "_model_module": "@jupyter-widgets/controls",
            "_model_module_version": "1.5.0",
            "_model_name": "DescriptionStyleModel",
            "_view_count": null,
            "_view_module": "@jupyter-widgets/base",
            "_view_module_version": "1.2.0",
            "_view_name": "StyleView",
            "description_width": ""
          }
        },
        "bfb5c3f8637144dea25505cbcd5d4960": {
          "model_module": "@jupyter-widgets/base",
          "model_name": "LayoutModel",
          "model_module_version": "1.2.0",
          "state": {
            "_model_module": "@jupyter-widgets/base",
            "_model_module_version": "1.2.0",
            "_model_name": "LayoutModel",
            "_view_count": null,
            "_view_module": "@jupyter-widgets/base",
            "_view_module_version": "1.2.0",
            "_view_name": "LayoutView",
            "align_content": null,
            "align_items": null,
            "align_self": null,
            "border": null,
            "bottom": null,
            "display": null,
            "flex": null,
            "flex_flow": null,
            "grid_area": null,
            "grid_auto_columns": null,
            "grid_auto_flow": null,
            "grid_auto_rows": null,
            "grid_column": null,
            "grid_gap": null,
            "grid_row": null,
            "grid_template_areas": null,
            "grid_template_columns": null,
            "grid_template_rows": null,
            "height": null,
            "justify_content": null,
            "justify_items": null,
            "left": null,
            "margin": null,
            "max_height": null,
            "max_width": null,
            "min_height": null,
            "min_width": null,
            "object_fit": null,
            "object_position": null,
            "order": null,
            "overflow": null,
            "overflow_x": null,
            "overflow_y": null,
            "padding": null,
            "right": null,
            "top": null,
            "visibility": null,
            "width": null
          }
        },
        "cb3a77b269fb4d43b18495d1cd361543": {
          "model_module": "@jupyter-widgets/controls",
          "model_name": "ProgressStyleModel",
          "model_module_version": "1.5.0",
          "state": {
            "_model_module": "@jupyter-widgets/controls",
            "_model_module_version": "1.5.0",
            "_model_name": "ProgressStyleModel",
            "_view_count": null,
            "_view_module": "@jupyter-widgets/base",
            "_view_module_version": "1.2.0",
            "_view_name": "StyleView",
            "bar_color": null,
            "description_width": ""
          }
        },
        "b97ab657f66c4f2d801286ea36ae94bf": {
          "model_module": "@jupyter-widgets/base",
          "model_name": "LayoutModel",
          "model_module_version": "1.2.0",
          "state": {
            "_model_module": "@jupyter-widgets/base",
            "_model_module_version": "1.2.0",
            "_model_name": "LayoutModel",
            "_view_count": null,
            "_view_module": "@jupyter-widgets/base",
            "_view_module_version": "1.2.0",
            "_view_name": "LayoutView",
            "align_content": null,
            "align_items": null,
            "align_self": null,
            "border": null,
            "bottom": null,
            "display": null,
            "flex": null,
            "flex_flow": null,
            "grid_area": null,
            "grid_auto_columns": null,
            "grid_auto_flow": null,
            "grid_auto_rows": null,
            "grid_column": null,
            "grid_gap": null,
            "grid_row": null,
            "grid_template_areas": null,
            "grid_template_columns": null,
            "grid_template_rows": null,
            "height": null,
            "justify_content": null,
            "justify_items": null,
            "left": null,
            "margin": null,
            "max_height": null,
            "max_width": null,
            "min_height": null,
            "min_width": null,
            "object_fit": null,
            "object_position": null,
            "order": null,
            "overflow": null,
            "overflow_x": null,
            "overflow_y": null,
            "padding": null,
            "right": null,
            "top": null,
            "visibility": null,
            "width": null
          }
        },
        "a114430dd7fb4c6d9c55232833293f7c": {
          "model_module": "@jupyter-widgets/controls",
          "model_name": "DescriptionStyleModel",
          "model_module_version": "1.5.0",
          "state": {
            "_model_module": "@jupyter-widgets/controls",
            "_model_module_version": "1.5.0",
            "_model_name": "DescriptionStyleModel",
            "_view_count": null,
            "_view_module": "@jupyter-widgets/base",
            "_view_module_version": "1.2.0",
            "_view_name": "StyleView",
            "description_width": ""
          }
        }
      }
    }
  },
  "cells": [
    {
      "cell_type": "code",
      "source": [
        "import tensorflow as tf"
      ],
      "metadata": {
        "id": "7kcoA8gYZ3RX"
      },
      "execution_count": 21,
      "outputs": []
    },
    {
      "cell_type": "code",
      "source": [
        "device_list=tf.test.gpu_device_name()"
      ],
      "metadata": {
        "id": "cVTJjFdRZ_dv"
      },
      "execution_count": 22,
      "outputs": []
    },
    {
      "cell_type": "code",
      "source": [
        "device_list"
      ],
      "metadata": {
        "colab": {
          "base_uri": "https://localhost:8080/",
          "height": 36
        },
        "id": "hZcLJKuYaK65",
        "outputId": "f94d367b-faad-4df1-ecae-89649a34c1ac"
      },
      "execution_count": 23,
      "outputs": [
        {
          "output_type": "execute_result",
          "data": {
            "text/plain": [
              "'/device:GPU:0'"
            ],
            "application/vnd.google.colaboratory.intrinsic+json": {
              "type": "string"
            }
          },
          "metadata": {},
          "execution_count": 23
        }
      ]
    },
    {
      "cell_type": "code",
      "source": [
        "if device_list != '/device:GPU:0':\n",
        "  raise SystemError('GPU device not found')\n",
        "print('Found GPU at:{}'.format(device_list))"
      ],
      "metadata": {
        "colab": {
          "base_uri": "https://localhost:8080/"
        },
        "id": "ywTgOtraaOcZ",
        "outputId": "8c1e5263-e49d-4603-896b-d8ebbc831c4e"
      },
      "execution_count": 24,
      "outputs": [
        {
          "output_type": "stream",
          "name": "stdout",
          "text": [
            "Found GPU at:/device:GPU:0\n"
          ]
        }
      ]
    },
    {
      "cell_type": "code",
      "source": [
        "!pip install keras_preprocessing"
      ],
      "metadata": {
        "colab": {
          "base_uri": "https://localhost:8080/"
        },
        "id": "kOzK4vNHrZVe",
        "outputId": "4da25593-1e92-4ab9-8de3-84298592002b"
      },
      "execution_count": 1,
      "outputs": [
        {
          "output_type": "stream",
          "name": "stdout",
          "text": [
            "Collecting keras_preprocessing\n",
            "  Downloading Keras_Preprocessing-1.1.2-py2.py3-none-any.whl (42 kB)\n",
            "\u001b[2K     \u001b[90m━━━━━━━━━━━━━━━━━━━━━━━━━━━━━━━━━━━━━━━━\u001b[0m \u001b[32m42.6/42.6 kB\u001b[0m \u001b[31m992.4 kB/s\u001b[0m eta \u001b[36m0:00:00\u001b[0m\n",
            "\u001b[?25hRequirement already satisfied: numpy>=1.9.1 in /usr/local/lib/python3.10/dist-packages (from keras_preprocessing) (1.23.5)\n",
            "Requirement already satisfied: six>=1.9.0 in /usr/local/lib/python3.10/dist-packages (from keras_preprocessing) (1.16.0)\n",
            "Installing collected packages: keras_preprocessing\n",
            "Successfully installed keras_preprocessing-1.1.2\n"
          ]
        }
      ]
    },
    {
      "cell_type": "code",
      "source": [
        "from keras.utils import to_categorical\n",
        "from keras_preprocessing.image import load_img\n",
        "from keras.models import Sequential\n",
        "from keras.layers import Dense, Conv2D, Dropout, Flatten, MaxPooling2D\n",
        "import os\n",
        "import pandas as pd\n",
        "import numpy as np"
      ],
      "metadata": {
        "id": "VZP8an4fr0zv"
      },
      "execution_count": 17,
      "outputs": []
    },
    {
      "cell_type": "code",
      "source": [
        "from google.colab import drive\n",
        "drive.mount('/content/drive/')\n",
        "\n",
        "\n"
      ],
      "metadata": {
        "colab": {
          "base_uri": "https://localhost:8080/"
        },
        "id": "FBV_7zBv3tv0",
        "outputId": "8af3d27e-b3c0-4142-e9b5-a8eaa47cef78"
      },
      "execution_count": 3,
      "outputs": [
        {
          "output_type": "stream",
          "name": "stdout",
          "text": [
            "Mounted at /content/drive/\n"
          ]
        }
      ]
    },
    {
      "cell_type": "code",
      "source": [
        "TRAIN_DIR = '/content/drive/MyDrive/Face emotion dataset/images/train'\n",
        "TEST_DIR = '/content/drive/MyDrive/Face emotion dataset/images/test'"
      ],
      "metadata": {
        "id": "9JKrTRtXr3Tn"
      },
      "execution_count": 8,
      "outputs": []
    },
    {
      "cell_type": "code",
      "source": [
        "def createdataframe(dir):\n",
        "    image_paths = []\n",
        "    labels = []\n",
        "    for label in os.listdir(dir):\n",
        "        for imagename in os.listdir(os.path.join(dir,label)):\n",
        "            image_paths.append(os.path.join(dir,label,imagename))\n",
        "            labels.append(label)\n",
        "        print(label, \"completed\")\n",
        "    return image_paths,labels"
      ],
      "metadata": {
        "id": "THXzi_r3r9Da"
      },
      "execution_count": 5,
      "outputs": []
    },
    {
      "cell_type": "code",
      "source": [
        "!pip install pandas"
      ],
      "metadata": {
        "colab": {
          "base_uri": "https://localhost:8080/"
        },
        "id": "EHnBVJlpw6ri",
        "outputId": "7f02b973-feb4-4bb8-f0f4-e10d706b72b1"
      },
      "execution_count": 6,
      "outputs": [
        {
          "output_type": "stream",
          "name": "stdout",
          "text": [
            "Requirement already satisfied: pandas in /usr/local/lib/python3.10/dist-packages (1.5.3)\n",
            "Requirement already satisfied: python-dateutil>=2.8.1 in /usr/local/lib/python3.10/dist-packages (from pandas) (2.8.2)\n",
            "Requirement already satisfied: pytz>=2020.1 in /usr/local/lib/python3.10/dist-packages (from pandas) (2023.3.post1)\n",
            "Requirement already satisfied: numpy>=1.21.0 in /usr/local/lib/python3.10/dist-packages (from pandas) (1.23.5)\n",
            "Requirement already satisfied: six>=1.5 in /usr/local/lib/python3.10/dist-packages (from python-dateutil>=2.8.1->pandas) (1.16.0)\n"
          ]
        }
      ]
    },
    {
      "cell_type": "code",
      "source": [
        "import os\n",
        "os.chdir(\"/content/drive/My Drive\")\n",
        "!ls"
      ],
      "metadata": {
        "colab": {
          "base_uri": "https://localhost:8080/"
        },
        "id": "co8H4Gyt-5P-",
        "outputId": "8d71785f-2f75-4f28-a618-afd3f018a095"
      },
      "execution_count": 21,
      "outputs": [
        {
          "output_type": "stream",
          "name": "stdout",
          "text": [
            "'3-2 (Final)Tasks'\n",
            " Audify_IMG_0.png\n",
            " BDURC\n",
            "'bg remove rc'\n",
            " Classroom\n",
            "'Colab Notebooks'\n",
            "'contest list.gsheet'\n",
            "'Copy of Computer Security for Kids by Slidesgo .gslides'\n",
            "'Copy of MLWBD.com Into The Wild (2007) 480p BluRay x264 Dual Audio {Hindi DD 2.0 + English DD 2.0} ESubs 561.7 M .mkv'\n",
            "'demo class1.mp4'\n",
            "'demo class.mp4'\n",
            "'Demo class.mp4'\n",
            "'Face emotion dataset'\n",
            "'Google UX Design Certificate - Identify Good UX Design [Template].gdoc'\n",
            " Ictob\n",
            " IDCards.pdf\n",
            " IMG-20200805-WA0041.jpg\n",
            " inbound894597930740582607.jpg\n",
            "'Mumtahin Ahmed Shoshi.png'\n",
            " Net_problem_GH-2\n",
            " Nishat_Tasnim_Shishir.jpeg\n",
            " Papers\n",
            "'Part -02  Id -1901026.pdf'\n",
            " payment_bill.java\n",
            " Picture\n",
            "'Presentation Iot by sayor.pptx'\n",
            "'Project Papers'\n",
            "'Real Life App lab'\n",
            " received_808143800510728.jpeg\n",
            "'sw project'\n",
            "'To-do list (1).gsheet'\n",
            "'To-do list.gsheet'\n",
            "'To Do list.gsheet'\n",
            "'Untitled presentation.gslides'\n",
            "'Untitled spreadsheet (1).gsheet'\n",
            "'Untitled spreadsheet.gsheet'\n",
            " Wifi_problem_GH_2\n",
            "'zho-vjib-tnj – 17 Feb 2023.gjam'\n",
            "'\" পরাণের গহীন ভিতর \".aac'\n"
          ]
        }
      ]
    },
    {
      "cell_type": "code",
      "source": [
        "import pandas as pd\n",
        "train = pd.DataFrame()\n",
        "train['image'], train['label'] = createdataframe(TRAIN_DIR)"
      ],
      "metadata": {
        "colab": {
          "base_uri": "https://localhost:8080/"
        },
        "id": "_yDge1EssCV9",
        "outputId": "07ed4d20-16e8-4689-b6c7-2bb61fda2b64"
      },
      "execution_count": 9,
      "outputs": [
        {
          "output_type": "stream",
          "name": "stdout",
          "text": [
            "angry completed\n",
            "fear completed\n",
            "disgust completed\n",
            "surprise completed\n",
            "happy completed\n",
            "sad completed\n",
            "neutral completed\n"
          ]
        }
      ]
    },
    {
      "cell_type": "code",
      "source": [
        "print(train)"
      ],
      "metadata": {
        "colab": {
          "base_uri": "https://localhost:8080/"
        },
        "id": "t2BDKM3Su1oM",
        "outputId": "983a6443-9673-4632-c1fa-a1f2a63a31e0"
      },
      "execution_count": 10,
      "outputs": [
        {
          "output_type": "stream",
          "name": "stdout",
          "text": [
            "                                                   image    label\n",
            "0      /content/drive/MyDrive/Face emotion dataset/im...    angry\n",
            "1      /content/drive/MyDrive/Face emotion dataset/im...    angry\n",
            "2      /content/drive/MyDrive/Face emotion dataset/im...    angry\n",
            "3      /content/drive/MyDrive/Face emotion dataset/im...    angry\n",
            "4      /content/drive/MyDrive/Face emotion dataset/im...    angry\n",
            "...                                                  ...      ...\n",
            "28816  /content/drive/MyDrive/Face emotion dataset/im...  neutral\n",
            "28817  /content/drive/MyDrive/Face emotion dataset/im...  neutral\n",
            "28818  /content/drive/MyDrive/Face emotion dataset/im...  neutral\n",
            "28819  /content/drive/MyDrive/Face emotion dataset/im...  neutral\n",
            "28820  /content/drive/MyDrive/Face emotion dataset/im...  neutral\n",
            "\n",
            "[28821 rows x 2 columns]\n"
          ]
        }
      ]
    },
    {
      "cell_type": "code",
      "source": [
        "test = pd.DataFrame()\n",
        "test['image'], test['label'] = createdataframe(TEST_DIR)"
      ],
      "metadata": {
        "colab": {
          "base_uri": "https://localhost:8080/"
        },
        "id": "xcbBwxHssAQy",
        "outputId": "96f9e74a-95b4-481e-ac6d-2760e87f8d91"
      },
      "execution_count": 12,
      "outputs": [
        {
          "output_type": "stream",
          "name": "stdout",
          "text": [
            "angry completed\n",
            "surprise completed\n",
            "neutral completed\n",
            "fear completed\n",
            "sad completed\n",
            "happy completed\n",
            "disgust completed\n"
          ]
        }
      ]
    },
    {
      "cell_type": "code",
      "source": [
        "print(test)\n",
        "print(test['image'])"
      ],
      "metadata": {
        "colab": {
          "base_uri": "https://localhost:8080/"
        },
        "id": "k9HJjYL8ATiO",
        "outputId": "3727b206-dc0c-4d22-8918-b01cf2ab0f77"
      },
      "execution_count": 13,
      "outputs": [
        {
          "output_type": "stream",
          "name": "stdout",
          "text": [
            "                                                  image    label\n",
            "0     /content/drive/MyDrive/Face emotion dataset/im...    angry\n",
            "1     /content/drive/MyDrive/Face emotion dataset/im...    angry\n",
            "2     /content/drive/MyDrive/Face emotion dataset/im...    angry\n",
            "3     /content/drive/MyDrive/Face emotion dataset/im...    angry\n",
            "4     /content/drive/MyDrive/Face emotion dataset/im...    angry\n",
            "...                                                 ...      ...\n",
            "7071  /content/drive/MyDrive/Face emotion dataset/im...  disgust\n",
            "7072  /content/drive/MyDrive/Face emotion dataset/im...  disgust\n",
            "7073  /content/drive/MyDrive/Face emotion dataset/im...  disgust\n",
            "7074  /content/drive/MyDrive/Face emotion dataset/im...  disgust\n",
            "7075  /content/drive/MyDrive/Face emotion dataset/im...  disgust\n",
            "\n",
            "[7076 rows x 2 columns]\n",
            "0       /content/drive/MyDrive/Face emotion dataset/im...\n",
            "1       /content/drive/MyDrive/Face emotion dataset/im...\n",
            "2       /content/drive/MyDrive/Face emotion dataset/im...\n",
            "3       /content/drive/MyDrive/Face emotion dataset/im...\n",
            "4       /content/drive/MyDrive/Face emotion dataset/im...\n",
            "                              ...                        \n",
            "7071    /content/drive/MyDrive/Face emotion dataset/im...\n",
            "7072    /content/drive/MyDrive/Face emotion dataset/im...\n",
            "7073    /content/drive/MyDrive/Face emotion dataset/im...\n",
            "7074    /content/drive/MyDrive/Face emotion dataset/im...\n",
            "7075    /content/drive/MyDrive/Face emotion dataset/im...\n",
            "Name: image, Length: 7076, dtype: object\n"
          ]
        }
      ]
    },
    {
      "cell_type": "code",
      "source": [
        "from tqdm.notebook import tqdm"
      ],
      "metadata": {
        "id": "PhQAdiCKAW9K"
      },
      "execution_count": 14,
      "outputs": []
    },
    {
      "cell_type": "code",
      "source": [
        "def extract_features(images):\n",
        "    features = []\n",
        "    for image in tqdm(images):\n",
        "        img = load_img(image,grayscale =  True )\n",
        "        img = np.array(img)\n",
        "        features.append(img)\n",
        "    features = np.array(features)\n",
        "    features = features.reshape(len(features),48,48,1)\n",
        "    return features"
      ],
      "metadata": {
        "id": "tHlnHabPAZjS"
      },
      "execution_count": 15,
      "outputs": []
    },
    {
      "cell_type": "code",
      "source": [
        "train_features = extract_features(train['image'])"
      ],
      "metadata": {
        "colab": {
          "base_uri": "https://localhost:8080/",
          "height": 49,
          "referenced_widgets": [
            "a8f28baea529432192d09dabdace1a77",
            "5689cb7efe10404885ebe37e059c156f",
            "153e9b055d5341ab845f0319f192d399",
            "f8b9e43f71db46729ad79f67489850ac",
            "02e4a28f5036470fb047651b3db07167",
            "df9492f08b5c4ac0850a69da3b495792",
            "12ec5cd4b0d04d2788470be7658d71b9",
            "1f8ad7b0510f47fa90928647d6eb6acc",
            "7b0ac66d0cea40178173ab6698d07264",
            "ca0db750095649b8910d57ac5aeb01ad",
            "a44ae15e5a284f21b43b2d7ad6ca7242"
          ]
        },
        "id": "7rVzCcMfAcZR",
        "outputId": "e0be25b9-5664-415b-c72f-4e4351882565"
      },
      "execution_count": 20,
      "outputs": [
        {
          "output_type": "display_data",
          "data": {
            "text/plain": [
              "  0%|          | 0/28821 [00:00<?, ?it/s]"
            ],
            "application/vnd.jupyter.widget-view+json": {
              "version_major": 2,
              "version_minor": 0,
              "model_id": "a8f28baea529432192d09dabdace1a77"
            }
          },
          "metadata": {}
        }
      ]
    },
    {
      "cell_type": "code",
      "source": [
        "test_features = extract_features(test['image'])"
      ],
      "metadata": {
        "colab": {
          "base_uri": "https://localhost:8080/",
          "height": 104,
          "referenced_widgets": [
            "3bdec4edc8484bdebba34ad863e0cdbd",
            "4cfd71f98837408997adcab86d797fd5",
            "c97d78cb0cad4065958f8e90390e974a",
            "8b919fcc517d477f8ba33fb535346a88",
            "8ccf214475634d148c7a97fdba9bfa66",
            "af24c78fd7ac497c800a3dc9971a65bb",
            "eb9c1b2bdd3847b98490080177902903",
            "bfb5c3f8637144dea25505cbcd5d4960",
            "cb3a77b269fb4d43b18495d1cd361543",
            "b97ab657f66c4f2d801286ea36ae94bf",
            "a114430dd7fb4c6d9c55232833293f7c"
          ]
        },
        "id": "nm3hXMaqAhuh",
        "outputId": "dcb1988c-6d66-4208-e72a-485c1d0d0483"
      },
      "execution_count": 25,
      "outputs": [
        {
          "output_type": "display_data",
          "data": {
            "text/plain": [
              "  0%|          | 0/7076 [00:00<?, ?it/s]"
            ],
            "application/vnd.jupyter.widget-view+json": {
              "version_major": 2,
              "version_minor": 0,
              "model_id": "3bdec4edc8484bdebba34ad863e0cdbd"
            }
          },
          "metadata": {}
        },
        {
          "output_type": "stream",
          "name": "stderr",
          "text": [
            "/usr/local/lib/python3.10/dist-packages/keras_preprocessing/image/utils.py:107: UserWarning: grayscale is deprecated. Please use color_mode = \"grayscale\"\n",
            "  warnings.warn('grayscale is deprecated. Please use '\n"
          ]
        }
      ]
    },
    {
      "cell_type": "code",
      "source": [
        "x_train = train_features/255.0\n",
        "x_test = test_features/255.0"
      ],
      "metadata": {
        "id": "FWJ3Df_2pXJM"
      },
      "execution_count": 26,
      "outputs": []
    },
    {
      "cell_type": "code",
      "source": [
        "from sklearn.preprocessing import LabelEncoder"
      ],
      "metadata": {
        "id": "0ZiZ3nnzpdp7"
      },
      "execution_count": 27,
      "outputs": []
    },
    {
      "cell_type": "code",
      "source": [
        "le = LabelEncoder()\n",
        "le.fit(train['label'])"
      ],
      "metadata": {
        "colab": {
          "base_uri": "https://localhost:8080/",
          "height": 74
        },
        "id": "HefMVp1Zpkok",
        "outputId": "aa5bbdaa-7e33-4b56-a1aa-6839b86f2213"
      },
      "execution_count": 28,
      "outputs": [
        {
          "output_type": "execute_result",
          "data": {
            "text/plain": [
              "LabelEncoder()"
            ],
            "text/html": [
              "<style>#sk-container-id-1 {color: black;background-color: white;}#sk-container-id-1 pre{padding: 0;}#sk-container-id-1 div.sk-toggleable {background-color: white;}#sk-container-id-1 label.sk-toggleable__label {cursor: pointer;display: block;width: 100%;margin-bottom: 0;padding: 0.3em;box-sizing: border-box;text-align: center;}#sk-container-id-1 label.sk-toggleable__label-arrow:before {content: \"▸\";float: left;margin-right: 0.25em;color: #696969;}#sk-container-id-1 label.sk-toggleable__label-arrow:hover:before {color: black;}#sk-container-id-1 div.sk-estimator:hover label.sk-toggleable__label-arrow:before {color: black;}#sk-container-id-1 div.sk-toggleable__content {max-height: 0;max-width: 0;overflow: hidden;text-align: left;background-color: #f0f8ff;}#sk-container-id-1 div.sk-toggleable__content pre {margin: 0.2em;color: black;border-radius: 0.25em;background-color: #f0f8ff;}#sk-container-id-1 input.sk-toggleable__control:checked~div.sk-toggleable__content {max-height: 200px;max-width: 100%;overflow: auto;}#sk-container-id-1 input.sk-toggleable__control:checked~label.sk-toggleable__label-arrow:before {content: \"▾\";}#sk-container-id-1 div.sk-estimator input.sk-toggleable__control:checked~label.sk-toggleable__label {background-color: #d4ebff;}#sk-container-id-1 div.sk-label input.sk-toggleable__control:checked~label.sk-toggleable__label {background-color: #d4ebff;}#sk-container-id-1 input.sk-hidden--visually {border: 0;clip: rect(1px 1px 1px 1px);clip: rect(1px, 1px, 1px, 1px);height: 1px;margin: -1px;overflow: hidden;padding: 0;position: absolute;width: 1px;}#sk-container-id-1 div.sk-estimator {font-family: monospace;background-color: #f0f8ff;border: 1px dotted black;border-radius: 0.25em;box-sizing: border-box;margin-bottom: 0.5em;}#sk-container-id-1 div.sk-estimator:hover {background-color: #d4ebff;}#sk-container-id-1 div.sk-parallel-item::after {content: \"\";width: 100%;border-bottom: 1px solid gray;flex-grow: 1;}#sk-container-id-1 div.sk-label:hover label.sk-toggleable__label {background-color: #d4ebff;}#sk-container-id-1 div.sk-serial::before {content: \"\";position: absolute;border-left: 1px solid gray;box-sizing: border-box;top: 0;bottom: 0;left: 50%;z-index: 0;}#sk-container-id-1 div.sk-serial {display: flex;flex-direction: column;align-items: center;background-color: white;padding-right: 0.2em;padding-left: 0.2em;position: relative;}#sk-container-id-1 div.sk-item {position: relative;z-index: 1;}#sk-container-id-1 div.sk-parallel {display: flex;align-items: stretch;justify-content: center;background-color: white;position: relative;}#sk-container-id-1 div.sk-item::before, #sk-container-id-1 div.sk-parallel-item::before {content: \"\";position: absolute;border-left: 1px solid gray;box-sizing: border-box;top: 0;bottom: 0;left: 50%;z-index: -1;}#sk-container-id-1 div.sk-parallel-item {display: flex;flex-direction: column;z-index: 1;position: relative;background-color: white;}#sk-container-id-1 div.sk-parallel-item:first-child::after {align-self: flex-end;width: 50%;}#sk-container-id-1 div.sk-parallel-item:last-child::after {align-self: flex-start;width: 50%;}#sk-container-id-1 div.sk-parallel-item:only-child::after {width: 0;}#sk-container-id-1 div.sk-dashed-wrapped {border: 1px dashed gray;margin: 0 0.4em 0.5em 0.4em;box-sizing: border-box;padding-bottom: 0.4em;background-color: white;}#sk-container-id-1 div.sk-label label {font-family: monospace;font-weight: bold;display: inline-block;line-height: 1.2em;}#sk-container-id-1 div.sk-label-container {text-align: center;}#sk-container-id-1 div.sk-container {/* jupyter's `normalize.less` sets `[hidden] { display: none; }` but bootstrap.min.css set `[hidden] { display: none !important; }` so we also need the `!important` here to be able to override the default hidden behavior on the sphinx rendered scikit-learn.org. See: https://github.com/scikit-learn/scikit-learn/issues/21755 */display: inline-block !important;position: relative;}#sk-container-id-1 div.sk-text-repr-fallback {display: none;}</style><div id=\"sk-container-id-1\" class=\"sk-top-container\"><div class=\"sk-text-repr-fallback\"><pre>LabelEncoder()</pre><b>In a Jupyter environment, please rerun this cell to show the HTML representation or trust the notebook. <br />On GitHub, the HTML representation is unable to render, please try loading this page with nbviewer.org.</b></div><div class=\"sk-container\" hidden><div class=\"sk-item\"><div class=\"sk-estimator sk-toggleable\"><input class=\"sk-toggleable__control sk-hidden--visually\" id=\"sk-estimator-id-1\" type=\"checkbox\" checked><label for=\"sk-estimator-id-1\" class=\"sk-toggleable__label sk-toggleable__label-arrow\">LabelEncoder</label><div class=\"sk-toggleable__content\"><pre>LabelEncoder()</pre></div></div></div></div></div>"
            ]
          },
          "metadata": {},
          "execution_count": 28
        }
      ]
    },
    {
      "cell_type": "code",
      "source": [
        "y_train = le.transform(train['label'])\n",
        "y_test = le.transform(test['label'])"
      ],
      "metadata": {
        "id": "HrFvfOSRpm4Q"
      },
      "execution_count": 31,
      "outputs": []
    },
    {
      "cell_type": "code",
      "source": [
        "y_train = to_categorical(y_train,num_classes = 7)\n",
        "y_test = to_categorical(y_test,num_classes = 7)"
      ],
      "metadata": {
        "id": "AlGTbOdVppac"
      },
      "execution_count": 32,
      "outputs": []
    },
    {
      "cell_type": "code",
      "source": [
        "model = Sequential()\n",
        "# convolutional layers\n",
        "model.add(Conv2D(128, kernel_size=(3,3), activation='relu', input_shape=(48,48,1)))\n",
        "model.add(MaxPooling2D(pool_size=(2,2)))\n",
        "model.add(Dropout(0.4))\n",
        "\n",
        "model.add(Conv2D(256, kernel_size=(3,3), activation='relu'))\n",
        "model.add(MaxPooling2D(pool_size=(2,2)))\n",
        "model.add(Dropout(0.4))\n",
        "\n",
        "model.add(Conv2D(512, kernel_size=(3,3), activation='relu'))\n",
        "model.add(MaxPooling2D(pool_size=(2,2)))\n",
        "model.add(Dropout(0.4))\n",
        "\n",
        "model.add(Conv2D(512, kernel_size=(3,3), activation='relu'))\n",
        "model.add(MaxPooling2D(pool_size=(2,2)))\n",
        "model.add(Dropout(0.4))\n",
        "\n",
        "model.add(Flatten())\n",
        "# fully connected layers\n",
        "model.add(Dense(512, activation='relu'))\n",
        "model.add(Dropout(0.4))\n",
        "model.add(Dense(256, activation='relu'))\n",
        "model.add(Dropout(0.3))\n",
        "# output layer\n",
        "model.add(Dense(7, activation='softmax'))"
      ],
      "metadata": {
        "id": "vFCO1hrqpr5L"
      },
      "execution_count": 34,
      "outputs": []
    },
    {
      "cell_type": "code",
      "source": [
        "model.compile(optimizer = 'adam', loss = 'categorical_crossentropy', metrics = 'accuracy' )"
      ],
      "metadata": {
        "id": "8tQUI_a2qBM5"
      },
      "execution_count": 35,
      "outputs": []
    },
    {
      "cell_type": "code",
      "source": [
        "model.fit(x= x_train,y = y_train, batch_size = 128, epochs = 100, validation_data = (x_test,y_test))"
      ],
      "metadata": {
        "colab": {
          "base_uri": "https://localhost:8080/"
        },
        "id": "bqHYYWBRqEoa",
        "outputId": "92f8c063-1cd5-44a5-e9f4-abc0a52d937f"
      },
      "execution_count": 36,
      "outputs": [
        {
          "output_type": "stream",
          "name": "stdout",
          "text": [
            "Epoch 1/100\n",
            "226/226 [==============================] - 28s 60ms/step - loss: 1.8234 - accuracy: 0.2442 - val_loss: 1.8124 - val_accuracy: 0.2579\n",
            "Epoch 2/100\n",
            "226/226 [==============================] - 13s 57ms/step - loss: 1.8064 - accuracy: 0.2528 - val_loss: 1.7750 - val_accuracy: 0.2655\n",
            "Epoch 3/100\n",
            "226/226 [==============================] - 13s 58ms/step - loss: 1.7330 - accuracy: 0.2851 - val_loss: 1.6474 - val_accuracy: 0.3423\n",
            "Epoch 4/100\n",
            "226/226 [==============================] - 13s 56ms/step - loss: 1.6145 - accuracy: 0.3589 - val_loss: 1.4921 - val_accuracy: 0.4233\n",
            "Epoch 5/100\n",
            "226/226 [==============================] - 13s 57ms/step - loss: 1.5077 - accuracy: 0.4128 - val_loss: 1.3817 - val_accuracy: 0.4672\n",
            "Epoch 6/100\n",
            "226/226 [==============================] - 13s 59ms/step - loss: 1.4434 - accuracy: 0.4391 - val_loss: 1.3227 - val_accuracy: 0.4990\n",
            "Epoch 7/100\n",
            "226/226 [==============================] - 13s 57ms/step - loss: 1.4020 - accuracy: 0.4588 - val_loss: 1.2898 - val_accuracy: 0.5045\n",
            "Epoch 8/100\n",
            "226/226 [==============================] - 13s 57ms/step - loss: 1.3648 - accuracy: 0.4731 - val_loss: 1.2534 - val_accuracy: 0.5280\n",
            "Epoch 9/100\n",
            "226/226 [==============================] - 13s 57ms/step - loss: 1.3359 - accuracy: 0.4866 - val_loss: 1.2157 - val_accuracy: 0.5397\n",
            "Epoch 10/100\n",
            "226/226 [==============================] - 13s 56ms/step - loss: 1.3095 - accuracy: 0.4996 - val_loss: 1.2309 - val_accuracy: 0.5240\n",
            "Epoch 11/100\n",
            "226/226 [==============================] - 13s 58ms/step - loss: 1.2876 - accuracy: 0.5071 - val_loss: 1.1739 - val_accuracy: 0.5507\n",
            "Epoch 12/100\n",
            "226/226 [==============================] - 13s 57ms/step - loss: 1.2715 - accuracy: 0.5118 - val_loss: 1.1734 - val_accuracy: 0.5538\n",
            "Epoch 13/100\n",
            "226/226 [==============================] - 13s 58ms/step - loss: 1.2533 - accuracy: 0.5191 - val_loss: 1.1579 - val_accuracy: 0.5616\n",
            "Epoch 14/100\n",
            "226/226 [==============================] - 13s 59ms/step - loss: 1.2445 - accuracy: 0.5247 - val_loss: 1.1528 - val_accuracy: 0.5632\n",
            "Epoch 15/100\n",
            "226/226 [==============================] - 13s 58ms/step - loss: 1.2229 - accuracy: 0.5298 - val_loss: 1.1421 - val_accuracy: 0.5685\n",
            "Epoch 16/100\n",
            "226/226 [==============================] - 13s 58ms/step - loss: 1.2225 - accuracy: 0.5358 - val_loss: 1.1365 - val_accuracy: 0.5739\n",
            "Epoch 17/100\n",
            "226/226 [==============================] - 13s 57ms/step - loss: 1.2001 - accuracy: 0.5402 - val_loss: 1.1414 - val_accuracy: 0.5656\n",
            "Epoch 18/100\n",
            "226/226 [==============================] - 13s 57ms/step - loss: 1.1905 - accuracy: 0.5466 - val_loss: 1.1237 - val_accuracy: 0.5685\n",
            "Epoch 19/100\n",
            "226/226 [==============================] - 13s 57ms/step - loss: 1.1831 - accuracy: 0.5511 - val_loss: 1.1166 - val_accuracy: 0.5779\n",
            "Epoch 20/100\n",
            "226/226 [==============================] - 13s 59ms/step - loss: 1.1708 - accuracy: 0.5546 - val_loss: 1.1197 - val_accuracy: 0.5767\n",
            "Epoch 21/100\n",
            "226/226 [==============================] - 13s 59ms/step - loss: 1.1653 - accuracy: 0.5573 - val_loss: 1.1020 - val_accuracy: 0.5839\n",
            "Epoch 22/100\n",
            "226/226 [==============================] - 13s 57ms/step - loss: 1.1618 - accuracy: 0.5609 - val_loss: 1.0965 - val_accuracy: 0.5856\n",
            "Epoch 23/100\n",
            "226/226 [==============================] - 13s 59ms/step - loss: 1.1457 - accuracy: 0.5654 - val_loss: 1.0960 - val_accuracy: 0.5848\n",
            "Epoch 24/100\n",
            "226/226 [==============================] - 13s 59ms/step - loss: 1.1378 - accuracy: 0.5690 - val_loss: 1.1030 - val_accuracy: 0.5837\n",
            "Epoch 25/100\n",
            "226/226 [==============================] - 13s 57ms/step - loss: 1.1253 - accuracy: 0.5720 - val_loss: 1.0940 - val_accuracy: 0.5900\n",
            "Epoch 26/100\n",
            "226/226 [==============================] - 13s 57ms/step - loss: 1.1202 - accuracy: 0.5739 - val_loss: 1.0781 - val_accuracy: 0.5934\n",
            "Epoch 27/100\n",
            "226/226 [==============================] - 13s 59ms/step - loss: 1.1194 - accuracy: 0.5758 - val_loss: 1.0891 - val_accuracy: 0.5933\n",
            "Epoch 28/100\n",
            "226/226 [==============================] - 13s 59ms/step - loss: 1.1120 - accuracy: 0.5766 - val_loss: 1.0796 - val_accuracy: 0.5981\n",
            "Epoch 29/100\n",
            "226/226 [==============================] - 13s 59ms/step - loss: 1.1025 - accuracy: 0.5831 - val_loss: 1.0837 - val_accuracy: 0.5975\n",
            "Epoch 30/100\n",
            "226/226 [==============================] - 13s 57ms/step - loss: 1.0993 - accuracy: 0.5820 - val_loss: 1.0780 - val_accuracy: 0.6039\n",
            "Epoch 31/100\n",
            "226/226 [==============================] - 13s 57ms/step - loss: 1.0837 - accuracy: 0.5876 - val_loss: 1.0709 - val_accuracy: 0.6005\n",
            "Epoch 32/100\n",
            "226/226 [==============================] - 13s 59ms/step - loss: 1.0829 - accuracy: 0.5890 - val_loss: 1.0692 - val_accuracy: 0.6026\n",
            "Epoch 33/100\n",
            "226/226 [==============================] - 13s 57ms/step - loss: 1.0681 - accuracy: 0.5946 - val_loss: 1.0669 - val_accuracy: 0.6009\n",
            "Epoch 34/100\n",
            "226/226 [==============================] - 13s 59ms/step - loss: 1.0694 - accuracy: 0.5964 - val_loss: 1.0634 - val_accuracy: 0.6008\n",
            "Epoch 35/100\n",
            "226/226 [==============================] - 13s 57ms/step - loss: 1.0598 - accuracy: 0.5986 - val_loss: 1.0754 - val_accuracy: 0.5958\n",
            "Epoch 36/100\n",
            "226/226 [==============================] - 13s 57ms/step - loss: 1.0550 - accuracy: 0.5998 - val_loss: 1.0583 - val_accuracy: 0.6033\n",
            "Epoch 37/100\n",
            "226/226 [==============================] - 13s 57ms/step - loss: 1.0479 - accuracy: 0.6053 - val_loss: 1.0609 - val_accuracy: 0.6074\n",
            "Epoch 38/100\n",
            "226/226 [==============================] - 13s 57ms/step - loss: 1.0415 - accuracy: 0.6107 - val_loss: 1.0487 - val_accuracy: 0.6056\n",
            "Epoch 39/100\n",
            "226/226 [==============================] - 13s 57ms/step - loss: 1.0344 - accuracy: 0.6100 - val_loss: 1.0536 - val_accuracy: 0.6081\n",
            "Epoch 40/100\n",
            "226/226 [==============================] - 13s 59ms/step - loss: 1.0248 - accuracy: 0.6186 - val_loss: 1.0627 - val_accuracy: 0.6046\n",
            "Epoch 41/100\n",
            "226/226 [==============================] - 13s 57ms/step - loss: 1.0361 - accuracy: 0.6135 - val_loss: 1.0492 - val_accuracy: 0.6101\n",
            "Epoch 42/100\n",
            "226/226 [==============================] - 13s 57ms/step - loss: 1.0139 - accuracy: 0.6179 - val_loss: 1.0437 - val_accuracy: 0.6102\n",
            "Epoch 43/100\n",
            "226/226 [==============================] - 13s 59ms/step - loss: 1.0186 - accuracy: 0.6171 - val_loss: 1.0471 - val_accuracy: 0.6053\n",
            "Epoch 44/100\n",
            "226/226 [==============================] - 13s 57ms/step - loss: 1.0083 - accuracy: 0.6194 - val_loss: 1.0463 - val_accuracy: 0.6092\n",
            "Epoch 45/100\n",
            "226/226 [==============================] - 13s 59ms/step - loss: 1.0042 - accuracy: 0.6207 - val_loss: 1.0348 - val_accuracy: 0.6119\n",
            "Epoch 46/100\n",
            "226/226 [==============================] - 13s 59ms/step - loss: 0.9952 - accuracy: 0.6252 - val_loss: 1.0493 - val_accuracy: 0.6036\n",
            "Epoch 47/100\n",
            "226/226 [==============================] - 13s 57ms/step - loss: 0.9853 - accuracy: 0.6307 - val_loss: 1.0331 - val_accuracy: 0.6150\n",
            "Epoch 48/100\n",
            "226/226 [==============================] - 13s 57ms/step - loss: 0.9898 - accuracy: 0.6297 - val_loss: 1.0378 - val_accuracy: 0.6139\n",
            "Epoch 49/100\n",
            "226/226 [==============================] - 13s 59ms/step - loss: 0.9765 - accuracy: 0.6331 - val_loss: 1.0315 - val_accuracy: 0.6184\n",
            "Epoch 50/100\n",
            "226/226 [==============================] - 13s 57ms/step - loss: 0.9751 - accuracy: 0.6345 - val_loss: 1.0376 - val_accuracy: 0.6077\n",
            "Epoch 51/100\n",
            "226/226 [==============================] - 13s 57ms/step - loss: 0.9645 - accuracy: 0.6368 - val_loss: 1.0427 - val_accuracy: 0.6131\n",
            "Epoch 52/100\n",
            "226/226 [==============================] - 13s 59ms/step - loss: 0.9683 - accuracy: 0.6389 - val_loss: 1.0306 - val_accuracy: 0.6191\n",
            "Epoch 53/100\n",
            "226/226 [==============================] - 13s 59ms/step - loss: 0.9573 - accuracy: 0.6407 - val_loss: 1.0359 - val_accuracy: 0.6186\n",
            "Epoch 54/100\n",
            "226/226 [==============================] - 13s 57ms/step - loss: 0.9529 - accuracy: 0.6437 - val_loss: 1.0337 - val_accuracy: 0.6183\n",
            "Epoch 55/100\n",
            "226/226 [==============================] - 13s 57ms/step - loss: 0.9474 - accuracy: 0.6422 - val_loss: 1.0423 - val_accuracy: 0.6132\n",
            "Epoch 56/100\n",
            "226/226 [==============================] - 13s 59ms/step - loss: 0.9467 - accuracy: 0.6466 - val_loss: 1.0439 - val_accuracy: 0.6149\n",
            "Epoch 57/100\n",
            "226/226 [==============================] - 13s 57ms/step - loss: 0.9441 - accuracy: 0.6494 - val_loss: 1.0336 - val_accuracy: 0.6160\n",
            "Epoch 58/100\n",
            "226/226 [==============================] - 13s 59ms/step - loss: 0.9391 - accuracy: 0.6466 - val_loss: 1.0399 - val_accuracy: 0.6153\n",
            "Epoch 59/100\n",
            "226/226 [==============================] - 13s 59ms/step - loss: 0.9358 - accuracy: 0.6506 - val_loss: 1.0376 - val_accuracy: 0.6198\n",
            "Epoch 60/100\n",
            "226/226 [==============================] - 13s 57ms/step - loss: 0.9303 - accuracy: 0.6520 - val_loss: 1.0402 - val_accuracy: 0.6135\n",
            "Epoch 61/100\n",
            "226/226 [==============================] - 13s 57ms/step - loss: 0.9205 - accuracy: 0.6557 - val_loss: 1.0346 - val_accuracy: 0.6186\n",
            "Epoch 62/100\n",
            "226/226 [==============================] - 13s 59ms/step - loss: 0.9164 - accuracy: 0.6609 - val_loss: 1.0423 - val_accuracy: 0.6136\n",
            "Epoch 63/100\n",
            "226/226 [==============================] - 13s 59ms/step - loss: 0.9135 - accuracy: 0.6608 - val_loss: 1.0317 - val_accuracy: 0.6164\n",
            "Epoch 64/100\n",
            "226/226 [==============================] - 13s 59ms/step - loss: 0.9119 - accuracy: 0.6606 - val_loss: 1.0438 - val_accuracy: 0.6157\n",
            "Epoch 65/100\n",
            "226/226 [==============================] - 13s 57ms/step - loss: 0.9121 - accuracy: 0.6590 - val_loss: 1.0324 - val_accuracy: 0.6129\n",
            "Epoch 66/100\n",
            "226/226 [==============================] - 13s 57ms/step - loss: 0.9044 - accuracy: 0.6643 - val_loss: 1.0280 - val_accuracy: 0.6193\n",
            "Epoch 67/100\n",
            "226/226 [==============================] - 13s 59ms/step - loss: 0.8926 - accuracy: 0.6689 - val_loss: 1.0408 - val_accuracy: 0.6162\n",
            "Epoch 68/100\n",
            "226/226 [==============================] - 13s 59ms/step - loss: 0.8971 - accuracy: 0.6650 - val_loss: 1.0247 - val_accuracy: 0.6225\n",
            "Epoch 69/100\n",
            "226/226 [==============================] - 13s 57ms/step - loss: 0.8918 - accuracy: 0.6676 - val_loss: 1.0277 - val_accuracy: 0.6191\n",
            "Epoch 70/100\n",
            "226/226 [==============================] - 13s 59ms/step - loss: 0.8782 - accuracy: 0.6736 - val_loss: 1.0342 - val_accuracy: 0.6221\n",
            "Epoch 71/100\n",
            "226/226 [==============================] - 13s 59ms/step - loss: 0.8810 - accuracy: 0.6733 - val_loss: 1.0506 - val_accuracy: 0.6159\n",
            "Epoch 72/100\n",
            "226/226 [==============================] - 13s 59ms/step - loss: 0.8779 - accuracy: 0.6737 - val_loss: 1.0220 - val_accuracy: 0.6213\n",
            "Epoch 73/100\n",
            "226/226 [==============================] - 13s 57ms/step - loss: 0.8693 - accuracy: 0.6777 - val_loss: 1.0443 - val_accuracy: 0.6210\n",
            "Epoch 74/100\n",
            "226/226 [==============================] - 13s 59ms/step - loss: 0.8599 - accuracy: 0.6826 - val_loss: 1.0272 - val_accuracy: 0.6221\n",
            "Epoch 75/100\n",
            "226/226 [==============================] - 13s 59ms/step - loss: 0.8578 - accuracy: 0.6806 - val_loss: 1.0286 - val_accuracy: 0.6256\n",
            "Epoch 76/100\n",
            "226/226 [==============================] - 13s 59ms/step - loss: 0.8599 - accuracy: 0.6816 - val_loss: 1.0316 - val_accuracy: 0.6210\n",
            "Epoch 77/100\n",
            "226/226 [==============================] - 13s 58ms/step - loss: 0.8550 - accuracy: 0.6842 - val_loss: 1.0378 - val_accuracy: 0.6220\n",
            "Epoch 78/100\n",
            "226/226 [==============================] - 13s 59ms/step - loss: 0.8505 - accuracy: 0.6839 - val_loss: 1.0263 - val_accuracy: 0.6269\n",
            "Epoch 79/100\n",
            "226/226 [==============================] - 13s 59ms/step - loss: 0.8354 - accuracy: 0.6912 - val_loss: 1.0364 - val_accuracy: 0.6224\n",
            "Epoch 80/100\n",
            "226/226 [==============================] - 13s 57ms/step - loss: 0.8370 - accuracy: 0.6910 - val_loss: 1.0326 - val_accuracy: 0.6196\n",
            "Epoch 81/100\n",
            "226/226 [==============================] - 13s 57ms/step - loss: 0.8372 - accuracy: 0.6909 - val_loss: 1.0343 - val_accuracy: 0.6279\n",
            "Epoch 82/100\n",
            "226/226 [==============================] - 13s 57ms/step - loss: 0.8344 - accuracy: 0.6921 - val_loss: 1.0327 - val_accuracy: 0.6320\n",
            "Epoch 83/100\n",
            "226/226 [==============================] - 13s 59ms/step - loss: 0.8358 - accuracy: 0.6880 - val_loss: 1.0305 - val_accuracy: 0.6256\n",
            "Epoch 84/100\n",
            "226/226 [==============================] - 13s 57ms/step - loss: 0.8215 - accuracy: 0.6975 - val_loss: 1.0272 - val_accuracy: 0.6280\n",
            "Epoch 85/100\n",
            "226/226 [==============================] - 13s 59ms/step - loss: 0.8268 - accuracy: 0.6981 - val_loss: 1.0271 - val_accuracy: 0.6254\n",
            "Epoch 86/100\n",
            "226/226 [==============================] - 13s 59ms/step - loss: 0.8126 - accuracy: 0.7014 - val_loss: 1.0174 - val_accuracy: 0.6270\n",
            "Epoch 87/100\n",
            "226/226 [==============================] - 13s 59ms/step - loss: 0.8069 - accuracy: 0.7042 - val_loss: 1.0436 - val_accuracy: 0.6183\n",
            "Epoch 88/100\n",
            "226/226 [==============================] - 13s 59ms/step - loss: 0.8010 - accuracy: 0.7048 - val_loss: 1.0307 - val_accuracy: 0.6249\n",
            "Epoch 89/100\n",
            "226/226 [==============================] - 13s 58ms/step - loss: 0.8013 - accuracy: 0.7050 - val_loss: 1.0385 - val_accuracy: 0.6275\n",
            "Epoch 90/100\n",
            "226/226 [==============================] - 13s 59ms/step - loss: 0.8035 - accuracy: 0.7062 - val_loss: 1.0318 - val_accuracy: 0.6283\n",
            "Epoch 91/100\n",
            "226/226 [==============================] - 13s 57ms/step - loss: 0.7968 - accuracy: 0.7061 - val_loss: 1.0414 - val_accuracy: 0.6266\n",
            "Epoch 92/100\n",
            "226/226 [==============================] - 13s 59ms/step - loss: 0.7924 - accuracy: 0.7067 - val_loss: 1.0347 - val_accuracy: 0.6256\n",
            "Epoch 93/100\n",
            "226/226 [==============================] - 13s 59ms/step - loss: 0.7934 - accuracy: 0.7113 - val_loss: 1.0365 - val_accuracy: 0.6290\n",
            "Epoch 94/100\n",
            "226/226 [==============================] - 13s 59ms/step - loss: 0.7926 - accuracy: 0.7089 - val_loss: 1.0341 - val_accuracy: 0.6323\n",
            "Epoch 95/100\n",
            "226/226 [==============================] - 13s 59ms/step - loss: 0.7770 - accuracy: 0.7142 - val_loss: 1.0311 - val_accuracy: 0.6254\n",
            "Epoch 96/100\n",
            "226/226 [==============================] - 13s 59ms/step - loss: 0.7762 - accuracy: 0.7169 - val_loss: 1.0278 - val_accuracy: 0.6297\n",
            "Epoch 97/100\n",
            "226/226 [==============================] - 13s 57ms/step - loss: 0.7726 - accuracy: 0.7146 - val_loss: 1.0373 - val_accuracy: 0.6303\n",
            "Epoch 98/100\n",
            "226/226 [==============================] - 13s 59ms/step - loss: 0.7719 - accuracy: 0.7174 - val_loss: 1.0358 - val_accuracy: 0.6350\n",
            "Epoch 99/100\n",
            "226/226 [==============================] - 13s 59ms/step - loss: 0.7717 - accuracy: 0.7174 - val_loss: 1.0338 - val_accuracy: 0.6297\n",
            "Epoch 100/100\n",
            "226/226 [==============================] - 13s 59ms/step - loss: 0.7702 - accuracy: 0.7197 - val_loss: 1.0263 - val_accuracy: 0.6317\n"
          ]
        },
        {
          "output_type": "execute_result",
          "data": {
            "text/plain": [
              "<keras.src.callbacks.History at 0x7d35804cc880>"
            ]
          },
          "metadata": {},
          "execution_count": 36
        }
      ]
    },
    {
      "cell_type": "code",
      "source": [
        "model_json = model.to_json()\n",
        "with open(\"emotiondetector.json\",'w') as json_file:\n",
        "    json_file.write(model_json)\n",
        "model.save(\"emotiondetector.h5\")"
      ],
      "metadata": {
        "id": "q0RO9UwKqK9S"
      },
      "execution_count": 38,
      "outputs": []
    },
    {
      "cell_type": "code",
      "source": [
        "from keras.models import model_from_json"
      ],
      "metadata": {
        "id": "ojATSai_w3u6"
      },
      "execution_count": 39,
      "outputs": []
    },
    {
      "cell_type": "code",
      "source": [
        "json_file = open(\"emotiondetector.json\", \"r\")\n",
        "model_json = json_file.read()\n",
        "json_file.close()\n",
        "model = model_from_json(model_json)\n",
        "model.load_weights(\"emotiondetector.h5\")"
      ],
      "metadata": {
        "id": "u57JRo7uw5hm"
      },
      "execution_count": 40,
      "outputs": []
    },
    {
      "cell_type": "code",
      "source": [
        "label = ['angry','disgust','fear','happy','neutral','sad','surprise']"
      ],
      "metadata": {
        "id": "ty-H9vDyw-NX"
      },
      "execution_count": 41,
      "outputs": []
    },
    {
      "cell_type": "code",
      "source": [
        "def ef(image):\n",
        "    img = load_img(image,grayscale =  True )\n",
        "    feature = np.array(img)\n",
        "    feature = feature.reshape(1,48,48,1)\n",
        "    return feature/255.0"
      ],
      "metadata": {
        "id": "hoOqFd_rxO0u"
      },
      "execution_count": 42,
      "outputs": []
    },
    {
      "cell_type": "code",
      "source": [
        "image = '/content/drive/MyDrive/Face emotion dataset/images/train/neutral/47.jpg'\n",
        "print(\"original image is of neutral\")\n",
        "img = ef(image)\n",
        "pred = model.predict(img)\n",
        "pred_label = label[pred.argmax()]\n",
        "print(\"model prediction is \",pred_label)"
      ],
      "metadata": {
        "colab": {
          "base_uri": "https://localhost:8080/"
        },
        "id": "ZPUyNnfmxRbl",
        "outputId": "545ec49c-f048-4de2-b3d0-d5df57a4e659"
      },
      "execution_count": 44,
      "outputs": [
        {
          "output_type": "stream",
          "name": "stdout",
          "text": [
            "original image is of neutral\n",
            "1/1 [==============================] - 0s 18ms/step\n",
            "model prediction is  neutral\n"
          ]
        }
      ]
    },
    {
      "cell_type": "code",
      "source": [
        "import matplotlib.pyplot as plt\n",
        "%matplotlib inline"
      ],
      "metadata": {
        "id": "jEMDnkwy92bx"
      },
      "execution_count": 45,
      "outputs": []
    },
    {
      "cell_type": "code",
      "source": [
        "image = '/content/drive/MyDrive/Face emotion dataset/images/train/sad/6.jpg'\n",
        "print(\"original image is of sad\")\n",
        "img = ef(image)\n",
        "pred = model.predict(img)\n",
        "pred_label = label[pred.argmax()]\n",
        "print(\"model prediction is \",pred_label)\n",
        "plt.imshow(img.reshape(48,48),cmap='gray')"
      ],
      "metadata": {
        "colab": {
          "base_uri": "https://localhost:8080/",
          "height": 500
        },
        "id": "T0xL92Bd-QGD",
        "outputId": "b8fdef0d-e55b-4a85-aaf9-fbe44ce7f79e"
      },
      "execution_count": 58,
      "outputs": [
        {
          "output_type": "stream",
          "name": "stdout",
          "text": [
            "original image is of sad\n",
            "1/1 [==============================] - 0s 27ms/step\n",
            "model prediction is  sad\n"
          ]
        },
        {
          "output_type": "execute_result",
          "data": {
            "text/plain": [
              "<matplotlib.image.AxesImage at 0x7d35753ef550>"
            ]
          },
          "metadata": {},
          "execution_count": 58
        },
        {
          "output_type": "display_data",
          "data": {
            "text/plain": [
              "<Figure size 640x480 with 1 Axes>"
            ],
            "image/png": "[encoded data removed]"
          },
          "metadata": {}
        }
      ]
    },
    {
      "cell_type": "code",
      "source": [
        "image = '/content/drive/MyDrive/Face emotion dataset/images/train/fear/2.jpg'\n",
        "print(\"original image is of fear\")\n",
        "img = ef(image)\n",
        "pred = model.predict(img)\n",
        "pred_label = label[pred.argmax()]\n",
        "print(\"model prediction is \",pred_label)\n",
        "plt.imshow(img.reshape(48,48),cmap='gray')"
      ],
      "metadata": {
        "colab": {
          "base_uri": "https://localhost:8080/",
          "height": 500
        },
        "id": "V6NF8_n1-X5Q",
        "outputId": "f066c417-0577-444d-cceb-a1aa73ad8b5b"
      },
      "execution_count": 47,
      "outputs": [
        {
          "output_type": "stream",
          "name": "stdout",
          "text": [
            "original image is of fear\n",
            "1/1 [==============================] - 0s 20ms/step\n",
            "model prediction is  fear\n"
          ]
        },
        {
          "output_type": "execute_result",
          "data": {
            "text/plain": [
              "<matplotlib.image.AxesImage at 0x7d3575670820>"
            ]
          },
          "metadata": {},
          "execution_count": 47
        },
        {
          "output_type": "display_data",
          "data": {
            "text/plain": [
              "<Figure size 640x480 with 1 Axes>"
            ],
            "image/png": "[encoded data removed]"
          },
          "metadata": {}
        }
      ]
    },
    {
      "cell_type": "code",
      "source": [
        "image = '/content/drive/MyDrive/Face emotion dataset/images/train/disgust/1310.jpg'\n",
        "print(\"original image is of disgust\")\n",
        "img = ef(image)\n",
        "pred = model.predict(img)\n",
        "pred_label = label[pred.argmax()]\n",
        "print(\"model prediction is \",pred_label)\n",
        "plt.imshow(img.reshape(48,48),cmap='gray')"
      ],
      "metadata": {
        "colab": {
          "base_uri": "https://localhost:8080/",
          "height": 500
        },
        "id": "VKYVTYKR-gA7",
        "outputId": "5d9ba1f3-67ed-4b90-f954-e5bee54af645"
      },
      "execution_count": 57,
      "outputs": [
        {
          "output_type": "stream",
          "name": "stdout",
          "text": [
            "original image is of disgust\n",
            "1/1 [==============================] - 0s 18ms/step\n",
            "model prediction is  disgust\n"
          ]
        },
        {
          "output_type": "execute_result",
          "data": {
            "text/plain": [
              "<matplotlib.image.AxesImage at 0x7d35754dab60>"
            ]
          },
          "metadata": {},
          "execution_count": 57
        },
        {
          "output_type": "display_data",
          "data": {
            "text/plain": [
              "<Figure size 640x480 with 1 Axes>"
            ],
            "image/png": "[encoded data removed]"
          },
          "metadata": {}
        }
      ]
    },
    {
      "cell_type": "code",
      "source": [
        "image = '/content/drive/MyDrive/Face emotion dataset/images/train/happy/100.jpg'\n",
        "print(\"original image is of happy\")\n",
        "img = ef(image)\n",
        "pred = model.predict(img)\n",
        "pred_label = label[pred.argmax()]\n",
        "print(\"model prediction is \",pred_label)\n",
        "plt.imshow(img.reshape(48,48),cmap='gray')"
      ],
      "metadata": {
        "colab": {
          "base_uri": "https://localhost:8080/",
          "height": 500
        },
        "id": "doO1VqOJ-l-q",
        "outputId": "1f29165e-0200-49c1-ff57-f0b90bc39984"
      },
      "execution_count": 59,
      "outputs": [
        {
          "output_type": "stream",
          "name": "stdout",
          "text": [
            "original image is of happy\n",
            "1/1 [==============================] - 0s 19ms/step\n",
            "model prediction is  happy\n"
          ]
        },
        {
          "output_type": "execute_result",
          "data": {
            "text/plain": [
              "<matplotlib.image.AxesImage at 0x7d357545d420>"
            ]
          },
          "metadata": {},
          "execution_count": 59
        },
        {
          "output_type": "display_data",
          "data": {
            "text/plain": [
              "<Figure size 640x480 with 1 Axes>"
            ],
            "image/png": "[encoded data removed]"
          },
          "metadata": {}
        }
      ]
    },
    {
      "cell_type": "code",
      "source": [
        "image = '/content/drive/MyDrive/Face emotion dataset/images/train/surprise/15.jpg'\n",
        "print(\"original image is of surprise\")\n",
        "img = ef(image)\n",
        "pred = model.predict(img)\n",
        "pred_label = label[pred.argmax()]\n",
        "print(\"model prediction is \",pred_label)\n",
        "plt.imshow(img.reshape(48,48),cmap='gray')"
      ],
      "metadata": {
        "colab": {
          "base_uri": "https://localhost:8080/",
          "height": 555
        },
        "id": "DLx9bjhJ_y3p",
        "outputId": "772d68fb-0b7d-4a34-b65c-141f4d8e7ee6"
      },
      "execution_count": 64,
      "outputs": [
        {
          "output_type": "stream",
          "name": "stdout",
          "text": [
            "original image is of surprise\n",
            "1/1 [==============================] - 0s 19ms/step\n",
            "model prediction is  surprise\n"
          ]
        },
        {
          "output_type": "stream",
          "name": "stderr",
          "text": [
            "/usr/local/lib/python3.10/dist-packages/keras_preprocessing/image/utils.py:107: UserWarning: grayscale is deprecated. Please use color_mode = \"grayscale\"\n",
            "  warnings.warn('grayscale is deprecated. Please use '\n"
          ]
        },
        {
          "output_type": "execute_result",
          "data": {
            "text/plain": [
              "<matplotlib.image.AxesImage at 0x7d35753434f0>"
            ]
          },
          "metadata": {},
          "execution_count": 64
        },
        {
          "output_type": "display_data",
          "data": {
            "text/plain": [
              "<Figure size 640x480 with 1 Axes>"
            ],
            "image/png": "[encoded data removed]"
          },
          "metadata": {}
        }
      ]
    },
    {
      "cell_type": "code",
      "source": [],
      "metadata": {
        "id": "wb8fzGczOR3W"
      },
      "execution_count": null,
      "outputs": []
    }
  ]
}